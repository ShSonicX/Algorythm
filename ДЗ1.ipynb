{
  "nbformat": 4,
  "nbformat_minor": 0,
  "metadata": {
    "colab": {
      "provenance": [],
      "toc_visible": true
    },
    "kernelspec": {
      "name": "python3",
      "display_name": "Python 3"
    },
    "language_info": {
      "name": "python"
    }
  },
  "cells": [
    {
      "cell_type": "markdown",
      "source": [
        "# ДЗ 1"
      ],
      "metadata": {
        "id": "O2dXa2LZyIZ8"
      }
    },
    {
      "cell_type": "markdown",
      "source": [
        "## Альфа 2: ((-1 * ((low - close) * (open^5))) / ((low - high) * (close^5))) №54"
      ],
      "metadata": {
        "id": "Ks211ZKeyML1"
      }
    },
    {
      "cell_type": "code",
      "execution_count": null,
      "metadata": {
        "id": "V3vDcPBEx52u"
      },
      "outputs": [],
      "source": [
        "alp2 = ((-1*((df_l-df)*(df_o)**5))/((df_l-df_h)*(df)**5)) #сложность O(n*m)\n",
        "ts_rank(alp2,20) #сложность O(n*m), так как мы бегаем по таблице, вложенных операций нет\n",
        "alp2 = decay2(alp2, 10) #сложность O(n*m), так как мы бегаем по таблице, вложенных операций нет\n",
        "alp2 = truncate(alp2, 0.001) #сложность O(n*m), так как мы бегаем по таблице, вложенных операций нет\n",
        "alp2 = normalization(neutralization(alp2)) #сложность O(n^2*m), так как добавляется вложенный цикл по строкам\n",
        "# итоговая сложность будет O(n^2*m)"
      ]
    },
    {
      "cell_type": "markdown",
      "source": [
        "## Даны три натуральных числа. Возможно ли построить треугольник с такими сторонами. Если это возможно, выведите строку YES, иначе выведите строку NO. Треугольник — это три точки, не лежащие на одной прямой."
      ],
      "metadata": {
        "id": "mIFQ2k0Nz6ic"
      }
    },
    {
      "cell_type": "code",
      "source": [
        "def triangle(a, b, c):\n",
        "  if (a < b + c and b < a + c and c < a + b):\n",
        "    return ('YES')\n",
        "  else:\n",
        "    return ('NO')"
      ],
      "metadata": {
        "id": "ENtyz4Fnz8kP"
      },
      "execution_count": 1,
      "outputs": []
    },
    {
      "cell_type": "code",
      "source": [
        "triangle(3, 4, 5)"
      ],
      "metadata": {
        "colab": {
          "base_uri": "https://localhost:8080/",
          "height": 36
        },
        "id": "CjZERj3m0srz",
        "outputId": "43257644-408b-480c-f759-bdd09afd142d"
      },
      "execution_count": 2,
      "outputs": [
        {
          "output_type": "execute_result",
          "data": {
            "text/plain": [
              "'YES'"
            ],
            "application/vnd.google.colaboratory.intrinsic+json": {
              "type": "string"
            }
          },
          "metadata": {},
          "execution_count": 2
        }
      ]
    },
    {
      "cell_type": "markdown",
      "source": [
        "## Решите в целых числах уравнение: sqrt (ax+b) = c, где a, b, c -- данные целые числа. Найти все решения или сообщить, что решений в целых числах нет."
      ],
      "metadata": {
        "id": "xb8BXNIB1BzQ"
      }
    },
    {
      "cell_type": "code",
      "source": [
        "def equation(a, b, c):\n",
        "  if c < 0:\n",
        "    print(\"NO SOLUTION\")\n",
        "  elif (a + b) == c * c and (2 * a + b) == c * c:\n",
        "    print(\"MANY SOLUTIONS\")\n",
        "  else:\n",
        "    if a != 0 and (c * c - b) / a >= 0:\n",
        "        print((c * c - b) // a)\n",
        "    else:\n",
        "        print(\"NO SOLUTION\")"
      ],
      "metadata": {
        "id": "Gh4WuF542T2p"
      },
      "execution_count": 11,
      "outputs": []
    },
    {
      "cell_type": "code",
      "source": [
        "equation(1, 0, 0)"
      ],
      "metadata": {
        "colab": {
          "base_uri": "https://localhost:8080/"
        },
        "id": "4WhfxLiG27KS",
        "outputId": "f3a88ba0-368d-4f88-de7d-dc066e11a61f"
      },
      "execution_count": 12,
      "outputs": [
        {
          "output_type": "stream",
          "name": "stdout",
          "text": [
            "0\n"
          ]
        }
      ]
    },
    {
      "cell_type": "code",
      "source": [
        "equation(1, 2, -3)"
      ],
      "metadata": {
        "colab": {
          "base_uri": "https://localhost:8080/"
        },
        "id": "q6CoFRl12-98",
        "outputId": "bf4cfd68-cbb8-47f9-dbcd-52f934a31e86"
      },
      "execution_count": 13,
      "outputs": [
        {
          "output_type": "stream",
          "name": "stdout",
          "text": [
            "NO SOLUTION\n"
          ]
        }
      ]
    },
    {
      "cell_type": "code",
      "source": [
        "equation(0, 0, 0)"
      ],
      "metadata": {
        "colab": {
          "base_uri": "https://localhost:8080/"
        },
        "id": "wwEJZvsa_xdH",
        "outputId": "253aa981-32c8-46e5-a1f7-8cfb78ef00a5"
      },
      "execution_count": 14,
      "outputs": [
        {
          "output_type": "stream",
          "name": "stdout",
          "text": [
            "MANY SOLUTIONS\n"
          ]
        }
      ]
    },
    {
      "cell_type": "code",
      "source": [
        "equation(1, 9, 2)"
      ],
      "metadata": {
        "colab": {
          "base_uri": "https://localhost:8080/"
        },
        "id": "HQkvF_sqCPya",
        "outputId": "f571c281-aa66-4c40-bb68-d80413e03cf1"
      },
      "execution_count": 16,
      "outputs": [
        {
          "output_type": "stream",
          "name": "stdout",
          "text": [
            "NO SOLUTION\n"
          ]
        }
      ]
    },
    {
      "cell_type": "markdown",
      "source": [
        "## Бригада скорой помощи выехала по вызову в один из отделенных районов. К сожалению, когда диспетчер получил вызов, он успел записать только адрес дома и номер квартиры K1, а затем связь прервалась. Однако он вспомнил, что по этому же адресу дома некоторое время назад скорая помощь выезжала в квартиру K2, которая расположена в подъезда P2 на этаже N2. Известно, что в доме M этажей и количество квартир на каждой лестничной площадке одинаково. Напишите программу, которая вычилсяет номер подъезда P1 и номер этажа N1 квартиры K1."
      ],
      "metadata": {
        "id": "FCwX2nWQ7SmN"
      }
    },
    {
      "cell_type": "code",
      "source": [
        "import math as m"
      ],
      "metadata": {
        "id": "O2CF0jeGstMH"
      },
      "execution_count": 31,
      "outputs": []
    },
    {
      "cell_type": "code",
      "source": [
        "def bolnichka(K1, M, K2, P2, N2):\n",
        "  if K2 == P2 and P2 !=1: print('-1 -1')\n",
        "  elif M == K2 == P2 == N2 :  return 0, M\n",
        "  else:\n",
        "    x = m.floor(K2 / (M*(P2 - 1) + (N2 - 1)))\n",
        "    P1 = (K1 // (M*x)) + 1\n",
        "    N1 = K1 // x - (P1-1)*M + 1\n",
        "    return P1, N1"
      ],
      "metadata": {
        "id": "THHpH0y2Mqwl"
      },
      "execution_count": 34,
      "outputs": []
    },
    {
      "cell_type": "code",
      "source": [
        "# 89 20 41 1 11 -> 2 3\n",
        "# 11 1 1 1 1 -> 0 1\n",
        "# 3 2 2 2 1 -> -1 -1\n",
        "\n",
        "# bolnichka(89,20,41,1,11)\n",
        "bolnichka(11,1,1,1,1)\n",
        "# bolnichka(3,2,2,2,1)"
      ],
      "metadata": {
        "colab": {
          "base_uri": "https://localhost:8080/"
        },
        "id": "3XDlMAlnbFAD",
        "outputId": "6566fabb-79ea-470a-ceb6-ec5f55509913"
      },
      "execution_count": 36,
      "outputs": [
        {
          "output_type": "execute_result",
          "data": {
            "text/plain": [
              "(0, 1)"
            ]
          },
          "metadata": {},
          "execution_count": 36
        }
      ]
    },
    {
      "cell_type": "markdown",
      "source": [
        "## Имеется N кг металлического сплава. Из него изготавливают заготовки массой K кг каждая. После этого из каждой заготовки вытачиваются детали массой M кг каждая (из каждой заготовки вытачивают максимально возможное количество деталей). Если от заготовок после этого что-то остается, то этот материал возвращают к началу производственного цикла и сплавляют с тем, что осталось при изготовлении заготовок. Если того сплава, который получился, достаточно для изготовления хотя бы одной заготовки, то из него снова изготавливают заготовки, из них – детали и т.д. Напишите программу, которая вычислит, какое количество деталей может быть получено по этой технологии из имеющихся исходно N кг сплава."
      ],
      "metadata": {
        "id": "SM54gP94MrTb"
      }
    },
    {
      "cell_type": "code",
      "source": [
        "def alloy(n,k,m):\n",
        "  s = 0\n",
        "  if k < m:\n",
        "      print(0)\n",
        "  while n >= k:\n",
        "      i = n // k\n",
        "      s += i * (k // m)\n",
        "      n = n % k + i * (k % m)\n",
        "  print(s)"
      ],
      "metadata": {
        "id": "qLcy7dqeMu4O"
      },
      "execution_count": 31,
      "outputs": []
    },
    {
      "cell_type": "code",
      "source": [
        "alloy(10,5,2)"
      ],
      "metadata": {
        "colab": {
          "base_uri": "https://localhost:8080/"
        },
        "id": "znlsrsw_N2Qh",
        "outputId": "5586a7c9-3511-41ea-8cc6-b4f3d09466a8"
      },
      "execution_count": 32,
      "outputs": [
        {
          "output_type": "stream",
          "name": "stdout",
          "text": [
            "4\n"
          ]
        }
      ]
    },
    {
      "cell_type": "code",
      "source": [
        "alloy(13,5,3)"
      ],
      "metadata": {
        "colab": {
          "base_uri": "https://localhost:8080/"
        },
        "id": "LIkzLzfRN8jQ",
        "outputId": "d5b31d24-4a0d-4f29-da93-f55e03f27842"
      },
      "execution_count": 33,
      "outputs": [
        {
          "output_type": "stream",
          "name": "stdout",
          "text": [
            "3\n"
          ]
        }
      ]
    },
    {
      "cell_type": "code",
      "source": [
        "alloy(14,5,3)"
      ],
      "metadata": {
        "colab": {
          "base_uri": "https://localhost:8080/"
        },
        "id": "hj0F5uSbOBmo",
        "outputId": "682dfe3a-8fc1-499b-b585-8e38d5b58d4e"
      },
      "execution_count": 34,
      "outputs": [
        {
          "output_type": "stream",
          "name": "stdout",
          "text": [
            "4\n"
          ]
        }
      ]
    },
    {
      "cell_type": "markdown",
      "source": [
        "## За многие годы заточения узник замка Иф проделал в стене прямоугольное отверстие размером D × E. Замок Иф сложен из кирпичей, размером A × B × C. Определите, сможет ли узник выбрасывать кирпичи в море через это отверстие, если стороны кирпича должны быть параллельны сторонам отверстия."
      ],
      "metadata": {
        "id": "R2hek2uvOnJl"
      }
    },
    {
      "cell_type": "code",
      "source": [
        "def bricks (a, b, c, d, e):\n",
        "  if a <= d and b <= e or a <= e and b <= d:\n",
        "    print(\"YES\")\n",
        "  elif c <= d and b <= e or c <= e and b <= d:\n",
        "      print(\"YES\")\n",
        "  elif c <= d and a <= e or c <= e and a <= d:\n",
        "      print(\"YES\")\n",
        "  else:\n",
        "      print(\"NO\")"
      ],
      "metadata": {
        "id": "V9MlJC3SOsVI"
      },
      "execution_count": 27,
      "outputs": []
    },
    {
      "cell_type": "code",
      "source": [
        "bricks(1,1,1,1,1)"
      ],
      "metadata": {
        "colab": {
          "base_uri": "https://localhost:8080/"
        },
        "id": "XkjW6uUtPnDK",
        "outputId": "03551f61-9f14-4b26-e7f8-959e2fc73460"
      },
      "execution_count": 28,
      "outputs": [
        {
          "output_type": "stream",
          "name": "stdout",
          "text": [
            "YES\n"
          ]
        }
      ]
    },
    {
      "cell_type": "code",
      "source": [
        "bricks(2,2,2,1,1)"
      ],
      "metadata": {
        "colab": {
          "base_uri": "https://localhost:8080/"
        },
        "id": "1hJ-jiEUPskE",
        "outputId": "803c5b02-fb10-4734-c576-5ede233e144f"
      },
      "execution_count": 29,
      "outputs": [
        {
          "output_type": "stream",
          "name": "stdout",
          "text": [
            "NO\n"
          ]
        }
      ]
    },
    {
      "cell_type": "markdown",
      "source": [
        "## Даны числа a, b, c, d, e, f.Решить систему линейных уравнений: ax+by=e cx+dy=f"
      ],
      "metadata": {
        "id": "wJK__HME9Ylt"
      }
    },
    {
      "cell_type": "code",
      "source": [
        "def system_lineral_equation(a, b, c, d, e, f):\n",
        "  if a*d!=b*c:\n",
        "    x = (e * d - b * f) / (a * d - b * c);\n",
        "    y = (a * f - e * c) / (a * d - b * c);\n",
        "    print ('x1 = ', x, ', y1 = ', y)\n",
        "  elif a==b==c==d==e==f==e==0:\n",
        "    print ('MANY SOLUTION')\n",
        "  elif a==b and c==d:\n",
        "    print ('x = ', 1, ', y = ', 0, ' or ', 'x = ', 0, ', y = ', 1)\n",
        "  elif a==c==0 and (e/b)==(f/d):\n",
        "    print ('x = luboe', ', y = ', e/b)\n",
        "  elif b==d==0 and (e/a)==(f/c):\n",
        "    print ('y = luboe', ', x = ', e/a)\n",
        "  else:\n",
        "    print ('NO SOLUTION')\n",
        "\n"
      ],
      "metadata": {
        "id": "J-LoOif8-Tho"
      },
      "execution_count": 28,
      "outputs": []
    },
    {
      "cell_type": "code",
      "source": [
        "system_lineral_equation(1,0,0,1,3,3)\n",
        "system_lineral_equation(1,1,2,2,1,2)\n",
        "system_lineral_equation(0,2,0,4,1,2)\n",
        "system_lineral_equation(2,0,4,0,1,2)"
      ],
      "metadata": {
        "colab": {
          "base_uri": "https://localhost:8080/"
        },
        "id": "I3pmeGeR_ObI",
        "outputId": "f586eb68-d29d-4216-bd7c-f394f617e5be"
      },
      "execution_count": 37,
      "outputs": [
        {
          "output_type": "stream",
          "name": "stdout",
          "text": [
            "x1 =  3.0 , y1 =  3.0\n",
            "x =  1 , y =  0  or  x =  0 , y =  1\n",
            "x = luboe , y =  0.5\n",
            "y = luboe , x =  0.5\n"
          ]
        }
      ]
    },
    {
      "cell_type": "code",
      "source": [
        "import numpy as np\n",
        "def system_lineral_equation2(a, b, c, d, e, f):\n",
        "  A = np.array([[a, b],[c, d]])\n",
        "  B = np.array([e, f])\n",
        "  C = np.array([[a, b, e],[c, d, f]])\n",
        "  #теорема Кронекера-Капелли\n",
        "  if np.linalg.det(A) == 0 or np.linalg.matrix_rank(A) == np.linalg.matrix_rank(C):\n",
        "      print('MANY SOLUTION')\n",
        "  elif a==b==c==d==e==f==e==0:\n",
        "      print ('MANY SOLUTION')\n",
        "  else:\n",
        "      X = np.linalg.solve(A, B)\n",
        "      print ('x = ', X[0], ', y = ', X[1])"
      ],
      "metadata": {
        "id": "aBuIsU1_ezxq"
      },
      "execution_count": 36,
      "outputs": []
    },
    {
      "cell_type": "code",
      "source": [
        "system_lineral_equation2(0,0,0,0,3,3)"
      ],
      "metadata": {
        "colab": {
          "base_uri": "https://localhost:8080/"
        },
        "id": "-DaI3ykVfVWH",
        "outputId": "7222e13d-140c-4250-b427-9b4d3a9edd80"
      },
      "execution_count": 37,
      "outputs": [
        {
          "output_type": "stream",
          "name": "stdout",
          "text": [
            "MANY SOLUTION\n"
          ]
        }
      ]
    }
  ]
}