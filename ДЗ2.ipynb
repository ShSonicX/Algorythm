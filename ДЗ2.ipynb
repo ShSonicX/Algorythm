{
  "nbformat": 4,
  "nbformat_minor": 0,
  "metadata": {
    "colab": {
      "provenance": []
    },
    "kernelspec": {
      "name": "python3",
      "display_name": "Python 3"
    },
    "language_info": {
      "name": "python"
    }
  },
  "cells": [
    {
      "cell_type": "markdown",
      "source": [
        "# На вход массив массивов вида [[start_1, end_1], ..., [start_n, end_n]]. Найти максимальную сумму end_i - start_i такую, что отрезки не пересекаются"
      ],
      "metadata": {
        "id": "mUC2_6DgXtTe"
      }
    },
    {
      "cell_type": "code",
      "execution_count": 4,
      "metadata": {
        "id": "PcN4BiqPXoyq"
      },
      "outputs": [],
      "source": [
        "def greedy_negotiations(mitings_times):\n",
        "    approved_time = []\n",
        "    mitings_times = sorted(mitings_times, key=lambda x: x[1])\n",
        "    approved_time.append(mitings_times.pop(0))\n",
        "    for miting in mitings_times:\n",
        "        if miting[0] >= approved_time[-1][1]:\n",
        "            approved_time.append(miting)\n",
        "    return approved_time"
      ]
    },
    {
      "cell_type": "code",
      "source": [
        "greedy_negotiations({(1, 2), (3, 6), (3, 4), (5, 7), (1, 7)})"
      ],
      "metadata": {
        "colab": {
          "base_uri": "https://localhost:8080/"
        },
        "id": "tXFgu1e3YNG4",
        "outputId": "461f6ca6-1ca8-4d33-ef0e-c32c0492e23d"
      },
      "execution_count": 3,
      "outputs": [
        {
          "output_type": "execute_result",
          "data": {
            "text/plain": [
              "[(1, 2), (3, 4), (5, 7)]"
            ]
          },
          "metadata": {},
          "execution_count": 3
        }
      ]
    },
    {
      "cell_type": "code",
      "source": [
        "greedy_negotiations({(11, 21), (3, 6), (38, 40), (5, 7), (1, 7)})"
      ],
      "metadata": {
        "colab": {
          "base_uri": "https://localhost:8080/"
        },
        "id": "YML13D3WlyYR",
        "outputId": "1f731758-01f6-49af-dd9c-97d9539eaa8d"
      },
      "execution_count": 5,
      "outputs": [
        {
          "output_type": "execute_result",
          "data": {
            "text/plain": [
              "[(3, 6), (11, 21), (38, 40)]"
            ]
          },
          "metadata": {},
          "execution_count": 5
        }
      ]
    },
    {
      "cell_type": "markdown",
      "source": [
        "# Петя и Вася вытягивают камни из двух куч. В одной n, в другой m камней. Первый ходит Петя. Выигрывает тот, кто забирает последний камень. За ход можно взять либо один камень из любой из куч, либо по камню из каждой. Требуется по числам m, n определить может ли Петя детерминированно выиграть."
      ],
      "metadata": {
        "id": "toj8xVvEkoha"
      }
    },
    {
      "cell_type": "code",
      "source": [
        "def hard_rock(n, m):\n",
        "  if n % 2 == 0 and m % 2 == 0:\n",
        "    return 'Lose'\n",
        "  else:\n",
        "    return 'Win'"
      ],
      "metadata": {
        "id": "NAKBOvaCk99h"
      },
      "execution_count": 1,
      "outputs": []
    },
    {
      "cell_type": "code",
      "source": [
        "hard_rock(17,21)"
      ],
      "metadata": {
        "colab": {
          "base_uri": "https://localhost:8080/",
          "height": 36
        },
        "id": "BVXhmXGAlOYr",
        "outputId": "46436ba5-3a80-45c6-fa2c-a49cd7b9761e"
      },
      "execution_count": 2,
      "outputs": [
        {
          "output_type": "execute_result",
          "data": {
            "text/plain": [
              "'Win'"
            ],
            "application/vnd.google.colaboratory.intrinsic+json": {
              "type": "string"
            }
          },
          "metadata": {},
          "execution_count": 2
        }
      ]
    },
    {
      "cell_type": "code",
      "source": [
        "hard_rock(16,20)"
      ],
      "metadata": {
        "colab": {
          "base_uri": "https://localhost:8080/",
          "height": 36
        },
        "id": "qsOWHL0Oln0N",
        "outputId": "41ee2051-bfb4-411b-9b69-07b5e4e12ab2"
      },
      "execution_count": 3,
      "outputs": [
        {
          "output_type": "execute_result",
          "data": {
            "text/plain": [
              "'Lose'"
            ],
            "application/vnd.google.colaboratory.intrinsic+json": {
              "type": "string"
            }
          },
          "metadata": {},
          "execution_count": 3
        }
      ]
    },
    {
      "cell_type": "markdown",
      "source": [
        "# Ханойские башни. Нужно рекурсивное решение"
      ],
      "metadata": {
        "id": "ZsooZ8sQl_MT"
      }
    },
    {
      "cell_type": "code",
      "source": [
        "def moveTower(height,fromPole, toPole, withPole):\n",
        "    if height >= 1:\n",
        "        moveTower(height-1,fromPole,withPole,toPole)\n",
        "        moveDisk(fromPole,toPole)\n",
        "        moveTower(height-1,withPole,toPole,fromPole)\n",
        "\n",
        "def moveDisk(fp,tp):\n",
        "    print(\"moving disk from\",fp,\"to\",tp)"
      ],
      "metadata": {
        "id": "fD3Jrk8YmNTO"
      },
      "execution_count": 7,
      "outputs": []
    },
    {
      "cell_type": "code",
      "source": [
        "moveTower(4,\"A\",\"B\",\"C\")"
      ],
      "metadata": {
        "colab": {
          "base_uri": "https://localhost:8080/"
        },
        "id": "_rUwV5H2mVht",
        "outputId": "1bc5f3c9-62c4-4a3f-aa24-0728df4dcba9"
      },
      "execution_count": 9,
      "outputs": [
        {
          "output_type": "stream",
          "name": "stdout",
          "text": [
            "moving disk from A to C\n",
            "moving disk from A to B\n",
            "moving disk from C to B\n",
            "moving disk from A to C\n",
            "moving disk from B to A\n",
            "moving disk from B to C\n",
            "moving disk from A to C\n",
            "moving disk from A to B\n",
            "moving disk from C to B\n",
            "moving disk from C to A\n",
            "moving disk from B to A\n",
            "moving disk from C to B\n",
            "moving disk from A to C\n",
            "moving disk from A to B\n",
            "moving disk from C to B\n"
          ]
        }
      ]
    },
    {
      "cell_type": "markdown",
      "source": [
        "# Найти объем шара радиусом 1 с цетром (0, 0) методом Монте-Карло на сетке [-1,1]^3, засечь время и точность"
      ],
      "metadata": {
        "id": "tRZkWUaZnGxG"
      }
    },
    {
      "cell_type": "code",
      "source": [
        "import random\n",
        "import time\n",
        "import math\n",
        "\n",
        "def monte_carlo_sphere(n):\n",
        "    count = 0\n",
        "    for i in range(n):\n",
        "        x = random.uniform(-1, 1)\n",
        "        y = random.uniform(-1, 1)\n",
        "        z = random.uniform(-1, 1)\n",
        "        if x**2 + y**2 + z**2 <= 1:\n",
        "            count += 1\n",
        "    r1 = 5\n",
        "    r2 = 8\n",
        "    V = (4/3) * math.pi * (r2**3 - r1**3)\n",
        "    print(\"Объем шара на усеченном пространстве:\", V)\n",
        "    return (count/n)*8\n",
        "\n",
        "start_time = time.time()\n",
        "result = monte_carlo_sphere(1000000)\n",
        "end_time = time.time()\n",
        "\n",
        "print(\"Результат: \", result)\n",
        "print(\"Время выполнения: \", end_time - start_time, \"секунд\")\n"
      ],
      "metadata": {
        "colab": {
          "base_uri": "https://localhost:8080/"
        },
        "id": "2CNqBgFynF9y",
        "outputId": "1d510524-beb5-420a-d3eb-420ce1500642"
      },
      "execution_count": 67,
      "outputs": [
        {
          "output_type": "stream",
          "name": "stdout",
          "text": [
            "Объем шара на усеченном пространстве: 1621.0618092523332\n",
            "Результат:  4.187584\n",
            "Время выполнения:  1.2936017513275146 секунд\n"
          ]
        }
      ]
    },
    {
      "cell_type": "code",
      "source": [
        "import random\n",
        "import time"
      ],
      "metadata": {
        "id": "kiViZv-IqpMg"
      },
      "execution_count": 15,
      "outputs": []
    },
    {
      "cell_type": "code",
      "source": [
        "def monte_carlo_sphere1(n):\n",
        "    count = 0\n",
        "    start_time = time.time()\n",
        "    for i in range(n):\n",
        "        x = random.uniform(-1, 1)\n",
        "        y = random.uniform(-1, 1)\n",
        "        z = random.uniform(-1, 1)\n",
        "        if x**2 + y**2 + z**2 <= 1:\n",
        "            count += 1\n",
        "    end_time = time.time()\n",
        "    timeee = end_time - start_time\n",
        "\n",
        "    print ('Result = ', (count/n)*8, 'Time = ', timeee, 'sec')\n"
      ],
      "metadata": {
        "id": "wfr18Svspxns"
      },
      "execution_count": 64,
      "outputs": []
    },
    {
      "cell_type": "code",
      "source": [
        "monte_carlo_sphere1(1000000)"
      ],
      "metadata": {
        "colab": {
          "base_uri": "https://localhost:8080/"
        },
        "id": "E8EMNAnNrT_w",
        "outputId": "fde0d124-4133-400e-b858-c9fbcb5ddd08"
      },
      "execution_count": 65,
      "outputs": [
        {
          "output_type": "stream",
          "name": "stdout",
          "text": [
            "Result =  4.189912 Time =  2.2674083709716797 sec\n"
          ]
        }
      ]
    },
    {
      "cell_type": "markdown",
      "source": [],
      "metadata": {
        "id": "pK10ShubwXpO"
      }
    },
    {
      "cell_type": "code",
      "source": [
        "# import math\n",
        "\n",
        "# # радиусы внутренней и внешней сфер\n",
        "# r1 = 5\n",
        "# r2 = 8\n",
        "\n",
        "# V = (4/3) * math.pi * (r2**3 - r1**3)\n",
        "\n",
        "# print(\"Объем шара на усеченном пространстве:\", V)\n"
      ],
      "metadata": {
        "colab": {
          "base_uri": "https://localhost:8080/"
        },
        "id": "kwbCqJgCwYU4",
        "outputId": "96be3e41-29bd-4863-8f56-73ebaab9f1fc"
      },
      "execution_count": 66,
      "outputs": [
        {
          "output_type": "stream",
          "name": "stdout",
          "text": [
            "Объем шара на усеченном пространстве: 1621.0618092523332\n"
          ]
        }
      ]
    }
  ]
}