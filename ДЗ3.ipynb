{
  "nbformat": 4,
  "nbformat_minor": 0,
  "metadata": {
    "colab": {
      "provenance": [],
      "toc_visible": true
    },
    "kernelspec": {
      "name": "python3",
      "display_name": "Python 3"
    },
    "language_info": {
      "name": "python"
    }
  },
  "cells": [
    {
      "cell_type": "markdown",
      "source": [
        "# Необходимо реализовать очередь c приоритетом со всеми методами"
      ],
      "metadata": {
        "id": "svjpGSienDBM"
      }
    },
    {
      "cell_type": "code",
      "execution_count": 16,
      "metadata": {
        "id": "Xc3ZRJ0jnCER"
      },
      "outputs": [],
      "source": [
        "import heapq\n",
        "\n",
        "class PriorityQueue:\n",
        "    def __init__(self):\n",
        "        self._queue = []\n",
        "        self._index = 0\n",
        "\n",
        "    def push(self, item, priority):\n",
        "        heapq.heappush(self._queue, (priority, self._index, item))\n",
        "        self._index += 1\n",
        "\n",
        "    def pop(self):\n",
        "        return heapq.heappop(self._queue)[-1]\n",
        "\n",
        "    def empty(self):\n",
        "        return len(self._queue) == 0\n"
      ]
    },
    {
      "cell_type": "code",
      "source": [
        "q = PriorityQueue()\n",
        "\n",
        "q.push('Задача 1', 1)\n",
        "q.push('Задача 2', 2)\n",
        "q.push('Задача 3', 3)\n",
        "\n",
        "while not q.empty():\n",
        "    task = q.pop()\n",
        "    print(task)"
      ],
      "metadata": {
        "colab": {
          "base_uri": "https://localhost:8080/"
        },
        "id": "txtmFzs4nUqq",
        "outputId": "d370ba4e-0744-4b84-892c-696a7e308039"
      },
      "execution_count": 18,
      "outputs": [
        {
          "output_type": "stream",
          "name": "stdout",
          "text": [
            "Задача 1\n",
            "Задача 2\n",
            "Задача 3\n"
          ]
        }
      ]
    },
    {
      "cell_type": "markdown",
      "source": [
        "# Необходимо найти максимальное произведение соседей в массиве, если несколько одинаковых результатов, то не обходимо выбрать с наименьшим множителем"
      ],
      "metadata": {
        "id": "EHJXWSKZzwjO"
      }
    },
    {
      "cell_type": "code",
      "source": [
        "def find_max(a):\n",
        "  max_proiz = 0\n",
        "  max_pair = []\n",
        "  for i in range(len(a)-1):\n",
        "    proiz= a[i] * a[i+1]\n",
        "    if proiz > max_proiz:\n",
        "      max_proiz = proiz\n",
        "      max_pair = [a[i], a[i+1]]\n",
        "    elif proiz == max_proiz:\n",
        "        min1 = min(max_pair[0], max_pair[1])\n",
        "        min2 = min(a[0], a[1])\n",
        "        if min2 < min1:\n",
        "        # if a[i] < max_pair[0]:\n",
        "          max_pair = [a[i], a[i+1]]\n",
        "\n",
        "  print(\"Произведение =\", max_proiz, \"Элементы:\", max_pair[0], \"и\", max_pair[1])"
      ],
      "metadata": {
        "id": "GdBjk1gLzxEq"
      },
      "execution_count": 19,
      "outputs": []
    },
    {
      "cell_type": "code",
      "source": [
        "arr = [1,2,3,4,5,2,4,6,3,5,7,2]\n",
        "find_max(arr)"
      ],
      "metadata": {
        "colab": {
          "base_uri": "https://localhost:8080/"
        },
        "id": "iw1WacWMz9Fx",
        "outputId": "79eebb8d-6d40-4507-e884-0ff4ab5f38d3"
      },
      "execution_count": 23,
      "outputs": [
        {
          "output_type": "stream",
          "name": "stdout",
          "text": [
            "Произведение = 35 Элементы: 5 и 7\n"
          ]
        }
      ]
    }
  ]
}